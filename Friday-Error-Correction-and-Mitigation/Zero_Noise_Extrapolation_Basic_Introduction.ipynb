{
  "nbformat": 4,
  "nbformat_minor": 0,
  "metadata": {
    "colab": {
      "provenance": []
    },
    "kernelspec": {
      "name": "python3",
      "display_name": "Python 3"
    },
    "language_info": {
      "name": "python"
    }
  },
  "cells": [
    {
      "cell_type": "code",
      "execution_count": 1,
      "metadata": {
        "id": "PGA4x-2ERMUx"
      },
      "outputs": [],
      "source": [
        "# Run this if you don't have qiskit and mitiq installed\n",
        "\n",
        "!pip install qiskit --quiet\n",
        "!pip install mitiq --quiet\n",
        "\n",
        "import warnings\n",
        "warnings.filterwarnings(action='ignore') # Optional warning filter"
      ]
    },
    {
      "cell_type": "markdown",
      "source": [
        "#Introduction to Zero Noise Extrapolation using Mitiq and Qiskit\n",
        "\n",
        "## By Sahil Gulania - Argonne National Laboratory\n",
        "\n",
        "Zero Noise Extrapolation (ZNE) is a technique used in quantum computation to mitigate the effects of noise and errors that occur during quantum computations. Quantum computers are inherently susceptible to various sources of noise and errors, such as environmental interference, imperfect gates, and decoherence. These factors can lead to inaccurate results and limit the computational power of quantum systems.\n",
        "\n",
        "ZNE aims to reduce the impact of noise by amplifying the signal associated with the desired quantum computation while attenuating the effects of noise. The basic idea behind ZNE is to perform multiple measurements or computations with different noise levels and use a combination of these results to extract the noise-free outcome. This is achieved by leveraging the statistical properties of the noise and the signal of interest.\n",
        "\n",
        "The ZNE technique involves the following steps:\n",
        "\n",
        "1. Preparation: Initially, the quantum system is prepared in a specific state or input suitable for the desired computation.\n",
        "\n",
        "2. Noise amplification: To amplify the signal and suppress noise, multiple runs of the computation are performed with different noise levels. This can be achieved by introducing controlled noise sources or intentionally varying system parameters.\n",
        "\n",
        "3. Measurement: The computation is repeated for each noise level, and the corresponding measurements or outcomes are recorded.\n",
        "\n",
        "4. Extrapolation: The collected measurements are then analyzed using extrapolation techniques to estimate the noise-free result. The extrapolation process takes advantage of the statistical properties of noise to separate the signal from the noise.\n",
        "\n",
        "5. Error correction: Finally, error correction techniques can be applied based on the extrapolated noise-free results to further improve the accuracy of the computation.\n",
        "\n",
        "By combining the results obtained from different noise levels, ZNE allows for the extraction of a more accurate outcome compared to a single noisy computation. It effectively suppresses the influence of noise on the final result, enabling more reliable quantum computations.\n",
        "\n",
        "Zero Noise Extrapolation is a promising approach for overcoming the limitations posed by noise in quantum computation, contributing to the development of more robust and reliable quantum algorithms and applications.\n",
        "\n"
      ],
      "metadata": {
        "id": "l_Xp_9ranppz"
      }
    },
    {
      "cell_type": "markdown",
      "source": [
        "$$\\newcommand{\\ket}[1]{\\left|{#1}\\right\\rangle}$$\n",
        "$$\\newcommand{\\bra}[1]{\\left\\langle{#1}\\right|}$$\n",
        "\n",
        "\n",
        "# Step 1 - Preperation of state using Qiskit\n",
        "\n",
        "We are going to use 4 qubits system to estimate the probability of $\\ket{0000}$ after the execution of a quantum circuit. The initial state will be $\\ket{\\Psi} = \\ket{0000}$ and after the action of gates the final state is also $\\ket{0000}$. This procedure allows us to compare the accuracy of ZNE technique."
      ],
      "metadata": {
        "id": "DnWebknao69g"
      }
    },
    {
      "cell_type": "code",
      "source": [
        "import qiskit\n",
        "import numpy as np\n",
        "\n",
        "from mitiq.interface import convert_to_mitiq, convert_from_mitiq\n",
        "\n",
        "n_qubits = 4\n",
        "\n",
        "qubits = qiskit.QuantumRegister(4)\n",
        "circuit = qiskit.QuantumCircuit(qubits)\n",
        "\n",
        "circuit.h(0)\n",
        "circuit.h(1)\n",
        "circuit.h(2)\n",
        "circuit.h(3)\n",
        "circuit.cnot(0, 1)\n",
        "circuit.cnot(2, 3)\n",
        "circuit.cnot(1, 2)\n",
        "circuit.cnot(1, 2)\n",
        "circuit.cnot(0, 1)\n",
        "circuit.cnot(2, 3)\n",
        "circuit.h(0)\n",
        "circuit.h(1)\n",
        "circuit.h(2)\n",
        "circuit.h(3)\n",
        "\n",
        "print(f\"Circuit used for ZNE with {len(circuit)} gates generated.\")\n",
        "print(circuit)"
      ],
      "metadata": {
        "colab": {
          "base_uri": "https://localhost:8080/"
        },
        "id": "sN8s5qELRPxf",
        "outputId": "cba58a73-efdd-401e-9cbf-b2e73360aa7a"
      },
      "execution_count": 2,
      "outputs": [
        {
          "output_type": "stream",
          "name": "stdout",
          "text": [
            "Circuit used for ZNE with 14 gates generated.\n",
            "      ┌───┐                    ┌───┐\n",
            "q0_0: ┤ H ├──■──────────────■──┤ H ├\n",
            "      ├───┤┌─┴─┐          ┌─┴─┐├───┤\n",
            "q0_1: ┤ H ├┤ X ├──■────■──┤ X ├┤ H ├\n",
            "      ├───┤└───┘┌─┴─┐┌─┴─┐└───┘├───┤\n",
            "q0_2: ┤ H ├──■──┤ X ├┤ X ├──■──┤ H ├\n",
            "      ├───┤┌─┴─┐└───┘└───┘┌─┴─┐├───┤\n",
            "q0_3: ┤ H ├┤ X ├──────────┤ X ├┤ H ├\n",
            "      └───┘└───┘          └───┘└───┘\n"
          ]
        }
      ]
    },
    {
      "cell_type": "markdown",
      "source": [
        "# Step 2 - Check the expectation value with a noiseless simulator.\n",
        "\n",
        "By doing this step we reconform the expectation value of the final state."
      ],
      "metadata": {
        "id": "utBnz-QmrnHD"
      }
    },
    {
      "cell_type": "code",
      "source": [
        "# Set the number of shots\n",
        "shots = 10 ** 5\n",
        "\n",
        "# Initialize ideal backend (classical noiseless simulator)\n",
        "ideal_backend = qiskit.Aer.get_backend('aer_simulator')\n",
        "\n",
        "# Append measurements\n",
        "circuit_to_run = circuit.copy()\n",
        "circuit_to_run.measure_all()\n",
        "\n",
        "# Run and get count\n",
        "job = ideal_backend.run(circuit_to_run, shots=shots)\n",
        "counts = job.result().get_counts()\n",
        "\n",
        "# Expectation value of O =|0000><0000|\n",
        "ideal_value = counts[\"0000\"] / shots\n",
        "ideal_value\n"
      ],
      "metadata": {
        "colab": {
          "base_uri": "https://localhost:8080/"
        },
        "id": "wn8ualbvRSGD",
        "outputId": "1848481d-b9e4-48a1-93aa-db7c240a818d"
      },
      "execution_count": 3,
      "outputs": [
        {
          "output_type": "execute_result",
          "data": {
            "text/plain": [
              "1.0"
            ]
          },
          "metadata": {},
          "execution_count": 3
        }
      ]
    },
    {
      "cell_type": "markdown",
      "source": [
        "# Step 3 - Load a noisy simulator from QisKit\n",
        "\n",
        "We are going to use a noisy simulator provided by IBM which mimicks one of their real device. This allows us to capture the physics and feasibility of ZNE without waiting in queue for running jobs on real device (https://qiskit.org/documentation/apidoc/providers_fake_provider.html).\n",
        "\n",
        "It also allow us to compute the effects of noise on the quantum circuit. The expectation value is different from the ideal expectation"
      ],
      "metadata": {
        "id": "nZEzYLqbr-Dg"
      }
    },
    {
      "cell_type": "code",
      "source": [
        "from qiskit.test.mock import FakeManilaV2\n",
        "\n",
        "# Set the number of shots\n",
        "shots = 10 ** 5\n",
        "\n",
        "# Select a noisy backend\n",
        "noisy_backend = FakeManilaV2() # Simulator with noise model similar to \"ibmq_manila\"\n",
        "\n",
        "# Append measurements\n",
        "circuit_to_run = circuit.copy()\n",
        "circuit_to_run.measure_all()\n",
        "\n",
        "# Run and get counts\n",
        "print(f\"Executing circuit with {len(circuit)} gates using {shots} shots.\")\n",
        "job = noisy_backend.run(circuit_to_run, shots=shots)\n",
        "counts = job.result().get_counts()\n",
        "\n",
        "# Compute expectation value of the observable O =|0000><0000|\n",
        "noisy_value = counts[\"0000\"] / shots\n",
        "noisy_value"
      ],
      "metadata": {
        "colab": {
          "base_uri": "https://localhost:8080/"
        },
        "id": "BUOQecHcSd6A",
        "outputId": "d5dd2785-40e2-4e22-cf14-31b2e06b782e"
      },
      "execution_count": 4,
      "outputs": [
        {
          "output_type": "stream",
          "name": "stdout",
          "text": [
            "Executing circuit with 14 gates using 100000 shots.\n"
          ]
        },
        {
          "output_type": "execute_result",
          "data": {
            "text/plain": [
              "0.82737"
            ]
          },
          "metadata": {},
          "execution_count": 4
        }
      ]
    },
    {
      "cell_type": "markdown",
      "source": [
        "# Step 4 - Setpu Mitiq variable\n",
        "\n",
        "This step allows uus to directly utilize the modules developed in Mitiq for ZNE. First we define the noisy parameters using the Qiskit noisy simulator."
      ],
      "metadata": {
        "id": "QGipiFPjtPco"
      }
    },
    {
      "cell_type": "code",
      "source": [
        "def executor(circuit, shots=10 ** 5):\n",
        "    \"\"\"Executes the input circuit and returns the noisy expectation value <O>, where O=|0000>0000|.\n",
        "    \"\"\"\n",
        "    # Select a noisy backend\n",
        "    # noisy_backend = qiskit.IBMQ.load_account().get_backend(\"ibmq_manila\")\n",
        "    noisy_backend = FakeManilaV2() # Simulator with noise model similar to \"ibmq_manila\"\n",
        "\n",
        "    # Append measurements\n",
        "    circuit_to_run = circuit.copy()\n",
        "    circuit_to_run.measure_all()\n",
        "\n",
        "    # Run and get counts\n",
        "    print(f\"Executing circuit with {len(circuit)} gates using {shots} shots.\")\n",
        "    job = noisy_backend.run(circuit_to_run, shots=shots)\n",
        "    counts = job.result().get_counts()\n",
        "\n",
        "    # Compute expectation value of the observable O =|0000><0000|\n",
        "    noisy_value = counts[\"0000\"] / shots\n",
        "    return noisy_value"
      ],
      "metadata": {
        "id": "0peaOdTCswFR"
      },
      "execution_count": 5,
      "outputs": []
    },
    {
      "cell_type": "markdown",
      "source": [
        "Now we setup the folding method. We are going to use global folding technique."
      ],
      "metadata": {
        "id": "jncFERB5tmRm"
      }
    },
    {
      "cell_type": "code",
      "source": [
        "from mitiq import zne\n",
        "\n",
        "# Choise a unitary folding function\n",
        "noise_scaling_function = zne.scaling.fold_global\n"
      ],
      "metadata": {
        "id": "6_P_FQxtSuBJ"
      },
      "execution_count": 6,
      "outputs": []
    },
    {
      "cell_type": "markdown",
      "source": [
        "#Step 5 - Setup parameters for enhancing the noise."
      ],
      "metadata": {
        "id": "PulFbERFtwH7"
      }
    },
    {
      "cell_type": "code",
      "source": [
        "factory = zne.inference.ExpFactory(scale_factors = [1, 2, 3, 4, 5, 6, 7, 8, 9, 10, 11, 12])\n",
        "# Examples:\n",
        "\n",
        "# Richardson extrapolation\n",
        "# factory = zne.inference.RichardsonFactory(scale_factors = [1, 2, 3])\n",
        "\n",
        "# Exponential extrapolation\n",
        "# factory = zne.inference.ExpFactory(scale_factors = [1, 2, 3], asymptote=0.25)\n",
        "\n",
        "# Exponential adaptive extrapolation\n",
        "# factory = zne.inference.AdaExpFactory(steps=10, asymptote=0.25)\n",
        "\n"
      ],
      "metadata": {
        "id": "iEvczR7GS0RI"
      },
      "execution_count": 7,
      "outputs": []
    },
    {
      "cell_type": "code",
      "source": [
        "zne_value = zne.execute_with_zne(circuit, executor, scale_noise=noise_scaling_function, factory=factory)\n",
        "\n",
        "unmitigated_error = abs(ideal_value - noisy_value)\n",
        "zne_error = abs(ideal_value - zne_value)\n",
        "print(f\"Estimation error without Mitiq   : {unmitigated_error}\")\n",
        "print(f\"Estimation error with Mitiq (ZNE): {zne_error}\")\n"
      ],
      "metadata": {
        "colab": {
          "base_uri": "https://localhost:8080/"
        },
        "id": "5Lwb3EScS2Dv",
        "outputId": "6bc1f393-3b00-4d14-aead-e40810804dca"
      },
      "execution_count": 8,
      "outputs": [
        {
          "output_type": "stream",
          "name": "stdout",
          "text": [
            "Executing circuit with 14 gates using 100000 shots.\n",
            "Executing circuit with 28 gates using 100000 shots.\n",
            "Executing circuit with 42 gates using 100000 shots.\n",
            "Executing circuit with 56 gates using 100000 shots.\n",
            "Executing circuit with 70 gates using 100000 shots.\n",
            "Executing circuit with 84 gates using 100000 shots.\n",
            "Executing circuit with 98 gates using 100000 shots.\n",
            "Executing circuit with 112 gates using 100000 shots.\n",
            "Executing circuit with 126 gates using 100000 shots.\n",
            "Executing circuit with 140 gates using 100000 shots.\n",
            "Executing circuit with 154 gates using 100000 shots.\n",
            "Executing circuit with 168 gates using 100000 shots.\n",
            "Estimation error without Mitiq   : 0.17262999999999995\n",
            "Estimation error with Mitiq (ZNE): 0.09860150867569162\n"
          ]
        }
      ]
    },
    {
      "cell_type": "code",
      "source": [
        "print(f\"ZNE reduced the estimation error by {(unmitigated_error - zne_error) / unmitigated_error :.1%}.\")"
      ],
      "metadata": {
        "colab": {
          "base_uri": "https://localhost:8080/"
        },
        "id": "31n4-_ZkS3y6",
        "outputId": "6f0cfdb4-3f13-43ce-fa7c-c5f56a49ac61"
      },
      "execution_count": 9,
      "outputs": [
        {
          "output_type": "stream",
          "name": "stdout",
          "text": [
            "ZNE reduced the estimation error by 42.9%.\n"
          ]
        }
      ]
    },
    {
      "cell_type": "code",
      "source": [
        "_ = factory.plot_fit()"
      ],
      "metadata": {
        "colab": {
          "base_uri": "https://localhost:8080/",
          "height": 465
        },
        "id": "Nyh49Q87S5xC",
        "outputId": "d170ec0a-a45d-4c95-d784-e8bd8c912fa6"
      },
      "execution_count": 10,
      "outputs": [
        {
          "output_type": "display_data",
          "data": {
            "text/plain": [
              "<Figure size 700x500 with 1 Axes>"
            ],
            "image/png": "[encoded data removed]"
          },
          "metadata": {}
        }
      ]
    },
    {
      "cell_type": "markdown",
      "source": [
        "# Running larger depth quantum circuit"
      ],
      "metadata": {
        "id": "YoLmbOvD8yrc"
      }
    },
    {
      "cell_type": "code",
      "source": [
        "n_qubits = 3\n",
        "\n",
        "qubits = qiskit.QuantumRegister(3)\n",
        "circuit = qiskit.QuantumCircuit(qubits)\n",
        "\n",
        "circuit.x(0)\n",
        "circuit.x(2)\n",
        "circuit.rx(np.pi/2, 1)\n",
        "circuit.rx(np.pi/2, 2)\n",
        "circuit.cnot(1, 2)\n",
        "circuit.rx(3.071535977980565, 1)\n",
        "circuit.rx(3.124076467116959, 2)\n",
        "circuit.cnot(1, 2)\n",
        "circuit.rx(-np.pi/2, 1)\n",
        "circuit.rx(-np.pi/2, 2)\n",
        "circuit.rx(np.pi/2, 0)\n",
        "circuit.rx(np.pi/2, 1)\n",
        "circuit.cnot(0, 1)\n",
        "circuit.rx(0.07934104435895009, 1)\n",
        "circuit.rx(0.019833244938295334, 2)\n",
        "circuit.cnot(0, 1)\n",
        "circuit.rx(-np.pi/2, 0)\n",
        "circuit.rx(-np.pi/2, 1)\n",
        "circuit.rx(np.pi/2, 1)\n",
        "circuit.rx(np.pi/2, 2)\n",
        "circuit.cnot(1, 2)\n",
        "circuit.rx(3.132306671921119, 1)\n",
        "circuit.rx(3.1392691406020656, 2)\n",
        "circuit.cnot(1, 2)\n",
        "circuit.rx(-np.pi/2, 1)\n",
        "circuit.rx(-np.pi/2, 2)\n",
        "print(f\"Circuit used for ZNE with {len(circuit)} gates generated.\")\n",
        "print(circuit)"
      ],
      "metadata": {
        "colab": {
          "base_uri": "https://localhost:8080/"
        },
        "id": "ArDV9LOAyKhZ",
        "outputId": "68c6ac37-cbde-432c-c3f2-adb7020a68e8"
      },
      "execution_count": 11,
      "outputs": [
        {
          "output_type": "stream",
          "name": "stdout",
          "text": [
            "Circuit used for ZNE with 26 gates generated.\n",
            "         ┌───┐   ┌─────────┐                                    »\n",
            "q1_0: ───┤ X ├───┤ Rx(π/2) ├────────────────────────────────────»\n",
            "      ┌──┴───┴──┐└─────────┘     ┌────────────┐     ┌──────────┐»\n",
            "q1_1: ┤ Rx(π/2) ├─────────────■──┤ Rx(3.0715) ├──■──┤ Rx(-π/2) ├»\n",
            "      └──┬───┬──┘┌─────────┐┌─┴─┐├────────────┤┌─┴─┐├──────────┤»\n",
            "q1_2: ───┤ X ├───┤ Rx(π/2) ├┤ X ├┤ Rx(3.1241) ├┤ X ├┤ Rx(-π/2) ├»\n",
            "         └───┘   └─────────┘└───┘└────────────┘└───┘└──────────┘»\n",
            "«                                                      ┌──────────┐           »\n",
            "«q1_0: ─────────────────────■───────────────────────■──┤ Rx(-π/2) ├───────────»\n",
            "«        ┌─────────┐      ┌─┴─┐   ┌──────────────┐┌─┴─┐├──────────┤┌─────────┐»\n",
            "«q1_1: ──┤ Rx(π/2) ├──────┤ X ├───┤ Rx(0.079341) ├┤ X ├┤ Rx(-π/2) ├┤ Rx(π/2) ├»\n",
            "«      ┌─┴─────────┴──┐┌──┴───┴──┐└──────────────┘└───┘└──────────┘└─────────┘»\n",
            "«q1_2: ┤ Rx(0.019833) ├┤ Rx(π/2) ├────────────────────────────────────────────»\n",
            "«      └──────────────┘└─────────┘                                            »\n",
            "«                                          \n",
            "«q1_0: ────────────────────────────────────\n",
            "«           ┌────────────┐     ┌──────────┐\n",
            "«q1_1: ──■──┤ Rx(3.1323) ├──■──┤ Rx(-π/2) ├\n",
            "«      ┌─┴─┐├────────────┤┌─┴─┐├──────────┤\n",
            "«q1_2: ┤ X ├┤ Rx(3.1393) ├┤ X ├┤ Rx(-π/2) ├\n",
            "«      └───┘└────────────┘└───┘└──────────┘\n"
          ]
        }
      ]
    },
    {
      "cell_type": "code",
      "source": [
        "# Append measurements\n",
        "circuit_to_run = circuit.copy()\n",
        "circuit_to_run.measure_all()\n",
        "\n",
        "# Run and get count\n",
        "job = ideal_backend.run(circuit_to_run, shots=shots)\n",
        "counts = job.result().get_counts()\n",
        "\n",
        "# Expectation value of R=|101><101|\n",
        "ideal_value = counts[\"101\"] / shots\n",
        "ideal_value"
      ],
      "metadata": {
        "colab": {
          "base_uri": "https://localhost:8080/"
        },
        "id": "bc-af_0q7f8w",
        "outputId": "8291cc80-4f36-43e2-fdd9-0b0555f93bb8"
      },
      "execution_count": 12,
      "outputs": [
        {
          "output_type": "execute_result",
          "data": {
            "text/plain": [
              "0.99671"
            ]
          },
          "metadata": {},
          "execution_count": 12
        }
      ]
    },
    {
      "cell_type": "code",
      "source": [
        "# Append measurements\n",
        "circuit_to_run = circuit.copy()\n",
        "circuit_to_run.measure_all()\n",
        "\n",
        "# Run and get counts\n",
        "print(f\"Executing circuit with {len(circuit)} gates using {shots} shots.\")\n",
        "job = noisy_backend.run(circuit_to_run, shots=shots)\n",
        "counts = job.result().get_counts()\n",
        "\n",
        "# Compute expectation value of the observable R=|101><101|\n",
        "noisy_value = counts[\"101\"] / shots\n",
        "noisy_value"
      ],
      "metadata": {
        "colab": {
          "base_uri": "https://localhost:8080/"
        },
        "id": "AiCAHkj58fPj",
        "outputId": "239c81a4-1524-4851-aaf7-1151ee4dde1b"
      },
      "execution_count": 13,
      "outputs": [
        {
          "output_type": "stream",
          "name": "stdout",
          "text": [
            "Executing circuit with 26 gates using 100000 shots.\n"
          ]
        },
        {
          "output_type": "execute_result",
          "data": {
            "text/plain": [
              "0.64121"
            ]
          },
          "metadata": {},
          "execution_count": 13
        }
      ]
    },
    {
      "cell_type": "code",
      "source": [
        "def executor_new(circuit, shots=10 ** 5):\n",
        "    \"\"\"Executes the input circuit and returns the noisy expectation value <R>, where R=|101>101|.\n",
        "    \"\"\"\n",
        "    # Select a noisy backend\n",
        "    # noisy_backend = qiskit.IBMQ.load_account().get_backend(\"ibmq_manila\")\n",
        "    noisy_backend = FakeManilaV2() # Simulator with noise model similar to \"ibmq_manila\"\n",
        "\n",
        "    # Append measurements\n",
        "    circuit_to_run = circuit.copy()\n",
        "    circuit_to_run.measure_all()\n",
        "\n",
        "    # Run and get counts\n",
        "    print(f\"Executing circuit with {len(circuit)} gates using {shots} shots.\")\n",
        "    job = noisy_backend.run(circuit_to_run, shots=shots)\n",
        "    counts = job.result().get_counts()\n",
        "\n",
        "    # Compute expectation value of the observable R=|101><101|\n",
        "    noisy_value = counts[\"101\"] / shots\n",
        "    return noisy_value"
      ],
      "metadata": {
        "id": "2qUN91OM72Es"
      },
      "execution_count": 14,
      "outputs": []
    },
    {
      "cell_type": "code",
      "source": [
        "zne_value = zne.execute_with_zne(circuit, executor_new, scale_noise=noise_scaling_function, factory=factory)\n",
        "\n",
        "unmitigated_error = abs(ideal_value - noisy_value)\n",
        "zne_error = abs(ideal_value - zne_value)\n",
        "print(f\"Estimation error without Mitiq   : {unmitigated_error}\")\n",
        "print(f\"Estimation error with Mitiq (ZNE): {zne_error}\")"
      ],
      "metadata": {
        "colab": {
          "base_uri": "https://localhost:8080/"
        },
        "id": "EFwVsrl07phU",
        "outputId": "c0c5b178-f55a-4a1b-ccce-e54ef2702b82"
      },
      "execution_count": 15,
      "outputs": [
        {
          "output_type": "stream",
          "name": "stdout",
          "text": [
            "Executing circuit with 26 gates using 100000 shots.\n",
            "Executing circuit with 52 gates using 100000 shots.\n",
            "Executing circuit with 78 gates using 100000 shots.\n",
            "Executing circuit with 104 gates using 100000 shots.\n",
            "Executing circuit with 130 gates using 100000 shots.\n",
            "Executing circuit with 156 gates using 100000 shots.\n",
            "Executing circuit with 182 gates using 100000 shots.\n",
            "Executing circuit with 208 gates using 100000 shots.\n",
            "Executing circuit with 234 gates using 100000 shots.\n",
            "Executing circuit with 260 gates using 100000 shots.\n",
            "Executing circuit with 286 gates using 100000 shots.\n",
            "Executing circuit with 312 gates using 100000 shots.\n",
            "Estimation error without Mitiq   : 0.35550000000000004\n",
            "Estimation error with Mitiq (ZNE): 0.29043677863561534\n"
          ]
        }
      ]
    },
    {
      "cell_type": "code",
      "source": [
        "print(f\"ZNE reduced the estimation error by {(unmitigated_error - zne_error) / unmitigated_error :.1%}.\")"
      ],
      "metadata": {
        "colab": {
          "base_uri": "https://localhost:8080/"
        },
        "id": "kHBMdHpb7xS1",
        "outputId": "9428f835-292a-40d5-92c2-08c5557eb09e"
      },
      "execution_count": 16,
      "outputs": [
        {
          "output_type": "stream",
          "name": "stdout",
          "text": [
            "ZNE reduced the estimation error by 18.3%.\n"
          ]
        }
      ]
    },
    {
      "cell_type": "code",
      "source": [
        "_ = factory.plot_fit()"
      ],
      "metadata": {
        "colab": {
          "base_uri": "https://localhost:8080/",
          "height": 465
        },
        "id": "VGo6x6mH8C8m",
        "outputId": "f0189298-7b4c-4464-b419-b7348a41509c"
      },
      "execution_count": 17,
      "outputs": [
        {
          "output_type": "display_data",
          "data": {
            "text/plain": [
              "<Figure size 700x500 with 1 Axes>"
            ],
            "image/png": "[encoded data removed]"
          },
          "metadata": {}
        }
      ]
    },
    {
      "cell_type": "code",
      "source": [
        "qiskit.__qiskit_version__"
      ],
      "metadata": {
        "colab": {
          "base_uri": "https://localhost:8080/"
        },
        "id": "tFS2-MrS9W2j",
        "outputId": "75a4c484-f896-46f9-f43c-610b9a64165b"
      },
      "execution_count": 18,
      "outputs": [
        {
          "output_type": "execute_result",
          "data": {
            "text/plain": [
              "{'qiskit-terra': '0.24.1', 'qiskit-aer': '0.12.1', 'qiskit-ignis': None, 'qiskit-ibmq-provider': '0.20.2', 'qiskit': '0.43.2', 'qiskit-nature': None, 'qiskit-finance': None, 'qiskit-optimization': None, 'qiskit-machine-learning': None}"
            ]
          },
          "metadata": {},
          "execution_count": 18
        }
      ]
    }
  ]
}